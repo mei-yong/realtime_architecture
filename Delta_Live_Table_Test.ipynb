{
  "nbformat": 4,
  "nbformat_minor": 0,
  "metadata": {
    "colab": {
      "provenance": [],
      "authorship_tag": "ABX9TyOQV1tXCt8V1AgKXT7S9tla",
      "include_colab_link": true
    },
    "kernelspec": {
      "name": "python3",
      "display_name": "Python 3"
    },
    "language_info": {
      "name": "python"
    }
  },
  "cells": [
    {
      "cell_type": "markdown",
      "metadata": {
        "id": "view-in-github",
        "colab_type": "text"
      },
      "source": [
        "<a href=\"https://colab.research.google.com/github/mei-yong/realtime_architecture/blob/main/Delta_Live_Table_Test.ipynb\" target=\"_parent\"><img src=\"https://colab.research.google.com/assets/colab-badge.svg\" alt=\"Open In Colab\"/></a>"
      ]
    },
    {
      "cell_type": "markdown",
      "source": [
        "https://www.youtube.com/watch?v=BIxwoO65ylY\n",
        "\n",
        "https://www.youtube.com/watch?v=PIFL7W3DmaY"
      ],
      "metadata": {
        "id": "fxgltSSZ0bL-"
      }
    },
    {
      "cell_type": "markdown",
      "source": [
        "Create bronze table"
      ],
      "metadata": {
        "id": "FSFta_fbtU-5"
      }
    },
    {
      "cell_type": "code",
      "execution_count": null,
      "metadata": {
        "id": "zHpnpoKkkCqR"
      },
      "outputs": [],
      "source": [
        "%sql\n",
        "CREATE STREAMING LIVE TABLE table_name_raw\n",
        "COMMENT \"Placeholder comment here.\"\n",
        "TBLPROPERTIES (\"quality\"=\"bronze\")\n",
        "AS\n",
        "SELECT * FROM cloud_files(\"/folder/folder/file\", \"json\", map(\"cloudFiles.inferColumnTypes\", \"true\"))\n",
        "--using Databricks Auto Loader\n",
        "--the true in map enables capturing unexpected data in a rescue data column and restarts the pipeline to use the new data"
      ]
    },
    {
      "cell_type": "markdown",
      "source": [
        "Create silver table"
      ],
      "metadata": {
        "id": "HXZO3zEuxScY"
      }
    },
    {
      "cell_type": "code",
      "source": [
        "%sql\n",
        "CREATE STREAMING LIVE TABLE table_name_clean (\n",
        "  CONSTRAINT valid_id EXPECT (table_id IS NOT NULL) ON VIOLATIOIN DROP ROW,\n",
        "  CONSTRAINT over_24hr_old_data EXPECT (secs_since_last_reported < 86400)\n",
        ")\n",
        "PARTITIONED BY (last_updated_date)\n",
        "COMMENT \"Placeholder comment here.\"\n",
        "TBLPROPERTIES (\"quality\"=\"silver\")\n",
        "AS\n",
        "SELECT\n",
        "  field.table_id,\n",
        "  field.other_column,\n",
        "  CAST(field.last_reported AS timestamp) AS last_reported_ts,\n",
        "  last_updated,\n",
        "  last_updated_ts,\n",
        "  date(last_updated_ts) AS last_updated_date,\n",
        "  unix_timestamp(date_trunc('HOUR', last_updated_ts)) AS last_updated_hr,\n",
        "  last_updated - field.last_reported AS secs_since_last_reported\n",
        "FROM (\n",
        "    SELECT\n",
        "      EXPLORE(data.field) AS field,\n",
        "      last_updated,\n",
        "      CAST(last_updated AS timestamp) AS last_updated_ts\n",
        "    FROM STREAM(LIVE.table_name_raw)\n",
        ")"
      ],
      "metadata": {
        "id": "77hcvb8iwl5t"
      },
      "execution_count": null,
      "outputs": []
    },
    {
      "cell_type": "markdown",
      "source": [
        "Temporary bronze table for handling slowly changing dimensions"
      ],
      "metadata": {
        "id": "xW8845nE0wdN"
      }
    },
    {
      "cell_type": "code",
      "source": [
        "CREATE TEMPORARY STREAMING LIVE TABLE exploded_other_raw_data\n",
        "AS\n",
        "SELECT\n",
        "  stuff.a,\n",
        "  stuff.b\n",
        "FROM (\n",
        "  EXPLODE(data.stuff) AS stuff,\n",
        "  last_updated,\n",
        "  CAST(last_updated AS timestamp) AS last_updated_ts\n",
        "FROM STREAM(LIVE.other_raw_data)\n",
        ")"
      ],
      "metadata": {
        "id": "p4mCmCBB00um"
      },
      "execution_count": null,
      "outputs": []
    },
    {
      "cell_type": "markdown",
      "source": [
        "Silver table for storing the SCD table"
      ],
      "metadata": {
        "id": "n41344lj1nRR"
      }
    },
    {
      "cell_type": "code",
      "source": [
        "CREATE STREAMING LIVE TABLE stuff_clean\n",
        "COMMENT \"Placeholder comment.\"\n",
        "TBLPROPERTIES (\"quality\"=\"silver\")"
      ],
      "metadata": {
        "id": "rYhNM0tH1rNj"
      },
      "execution_count": null,
      "outputs": []
    },
    {
      "cell_type": "code",
      "source": [
        "--Upsert/merge\n",
        "APPLY CHANGES INTO LIVE.stuff_clean FROM STREAM(LIVE.exploded_other_raw_data)\n",
        "  KEYS(table_id)\n",
        "  SEQUENCE BY last_updated"
      ],
      "metadata": {
        "id": "AJefb0DY199Y"
      },
      "execution_count": null,
      "outputs": []
    }
  ]
}